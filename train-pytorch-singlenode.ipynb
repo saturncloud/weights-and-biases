{
 "cells": [
  {
   "cell_type": "markdown",
   "metadata": {},
   "source": [
    "# Demo Weights and Biases\n",
    "### Train Image Classifier with PyTorch on Single GPU\n",
    "\n",
    "In this project, we use the Stanford Dogs dataset, and starting with a pre-trained version of Resnet50, we will use transfer learning to make it perform better at dog image identification.\n",
    "\n"
   ]
  },
  {
   "cell_type": "code",
   "execution_count": null,
   "metadata": {
    "execution": {
     "iopub.execute_input": "2021-04-21T20:38:48.311344Z",
     "iopub.status.busy": "2021-04-21T20:38:48.311073Z",
     "iopub.status.idle": "2021-04-21T20:38:48.973682Z",
     "shell.execute_reply": "2021-04-21T20:38:48.973132Z",
     "shell.execute_reply.started": "2021-04-21T20:38:48.311275Z"
    }
   },
   "outputs": [],
   "source": [
    "import numpy as np\n",
    "import os\n",
    "import math\n",
    "import datetime\n",
    "import json \n",
    "import torch\n",
    "from torch import nn, optim\n",
    "from torchvision import datasets, transforms, models\n",
    "from torch.utils.data import DataLoader\n",
    "from torch.utils.data.sampler import SubsetRandomSampler, RandomSampler\n",
    "from dask_pytorch_ddp import data\n",
    "import multiprocessing as mp\n",
    "from fastprogress.fastprogress import master_bar, progress_bar"
   ]
  },
  {
   "cell_type": "markdown",
   "metadata": {},
   "source": [
    "## Set up Weights and Biases\n",
    "\n",
    "Import the Weights and Biases library, and confirm that you are logged in. \n",
    "\n",
    ">The Start Script in this project uses your Weights and Biases token to log in. Make sure that this is correctly saved in the Credentials section, and named `WANDB_LOGIN`, if you have any trouble."
   ]
  },
  {
   "cell_type": "code",
   "execution_count": null,
   "metadata": {
    "execution": {
     "iopub.execute_input": "2021-04-21T20:38:50.730206Z",
     "iopub.status.busy": "2021-04-21T20:38:50.729982Z",
     "iopub.status.idle": "2021-04-21T20:38:51.946721Z",
     "shell.execute_reply": "2021-04-21T20:38:51.946052Z",
     "shell.execute_reply.started": "2021-04-21T20:38:50.730183Z"
    }
   },
   "outputs": [],
   "source": [
    "import wandb\n",
    "wandb.login()"
   ]
  },
  {
   "cell_type": "markdown",
   "metadata": {},
   "source": [
    "### Label Formatting \n",
    "These utilities ensure the training data labels correspond to the pretrained model's label expectations."
   ]
  },
  {
   "cell_type": "code",
   "execution_count": null,
   "metadata": {
    "execution": {
     "iopub.execute_input": "2021-04-21T20:38:55.595630Z",
     "iopub.status.busy": "2021-04-21T20:38:55.595397Z",
     "iopub.status.idle": "2021-04-21T20:38:56.181954Z",
     "shell.execute_reply": "2021-04-21T20:38:56.181379Z",
     "shell.execute_reply.started": "2021-04-21T20:38:55.595605Z"
    }
   },
   "outputs": [],
   "source": [
    "import re\n",
    "import s3fs\n",
    "\n",
    "##### Load label dataset\n",
    "s3 = s3fs.S3FileSystem(anon=True)\n",
    "with s3.open('s3://saturn-public-data/dogs/imagenet1000_clsidx_to_labels.txt') as f:\n",
    "    imagenetclasses = [line.strip() for line in f.readlines()]\n",
    "    \n",
    "##### Format labels to match pretrained Resnet\n",
    "def replace_label(dataset_label, model_labels):\n",
    "    label_string = re.search('n[0-9]+-([^/]+)', dataset_label).group(1)\n",
    "    \n",
    "    for i in model_labels:\n",
    "        i = str(i).replace('{', '').replace('}', '')\n",
    "        model_label_str = re.search('''b[\"'][0-9]+: [\"']([^\\/]+)[\"'],[\"']''', str(i))\n",
    "        model_label_idx = re.search('''b[\"']([0-9]+):''', str(i)).group(1)\n",
    "        \n",
    "        if re.search(str(label_string).replace('_', ' '), str(model_label_str).replace('_', ' ')):\n",
    "            return i, model_label_idx\n",
    "            break"
   ]
  },
  {
   "cell_type": "markdown",
   "metadata": {},
   "source": [
    "## Set Model Specifications\n",
    "\n",
    "Here you can assign your model hyperparameters, as well as identifying where the training data is housed on S3. All these parameters, as well as some extra elements like Notes and Tags, are tracked by Weights and Biases for you."
   ]
  },
  {
   "cell_type": "code",
   "execution_count": null,
   "metadata": {
    "execution": {
     "iopub.execute_input": "2021-04-21T20:38:57.167870Z",
     "iopub.status.busy": "2021-04-21T20:38:57.167647Z",
     "iopub.status.idle": "2021-04-21T20:38:57.171190Z",
     "shell.execute_reply": "2021-04-21T20:38:57.170476Z",
     "shell.execute_reply.started": "2021-04-21T20:38:57.167848Z"
    }
   },
   "outputs": [],
   "source": [
    "model_params = {'n_epochs': 6, \n",
    "    'batch_size': 64,\n",
    "    'base_lr': .01,\n",
    "    'downsample_to':.5, # Value represents percent of training data you want to use\n",
    "    'bucket': \"saturn-public-data\",\n",
    "    'prefix': \"dogs/Images\",\n",
    "    'pretrained_classes':imagenetclasses} "
   ]
  },
  {
   "cell_type": "code",
   "execution_count": null,
   "metadata": {
    "execution": {
     "iopub.execute_input": "2021-04-21T20:38:57.915852Z",
     "iopub.status.busy": "2021-04-21T20:38:57.915615Z",
     "iopub.status.idle": "2021-04-21T20:38:57.919062Z",
     "shell.execute_reply": "2021-04-21T20:38:57.918353Z",
     "shell.execute_reply.started": "2021-04-21T20:38:57.915828Z"
    }
   },
   "outputs": [],
   "source": [
    "wbargs = {**model_params,\n",
    "    'classes':120,\n",
    "    'Notes':\"baseline\",\n",
    "    'Tags': ['single', 'gpu'],\n",
    "    'dataset':\"StanfordDogs\",\n",
    "    'architecture':\"ResNet\"}"
   ]
  },
  {
   "cell_type": "markdown",
   "metadata": {},
   "source": [
    "## Training Function\n",
    "\n",
    "This function encompasses the training task. \n",
    "* Load model\n",
    "* Initialize Weights and Biases run\n",
    "* Set up DataLoader to iterate over training data\n",
    "* Perform training tasks\n",
    "* Write model performance data to Weights and Biases"
   ]
  },
  {
   "cell_type": "code",
   "execution_count": null,
   "metadata": {
    "execution": {
     "iopub.execute_input": "2021-04-21T20:38:58.957901Z",
     "iopub.status.busy": "2021-04-21T20:38:58.957679Z",
     "iopub.status.idle": "2021-04-21T20:38:58.970167Z",
     "shell.execute_reply": "2021-04-21T20:38:58.969489Z",
     "shell.execute_reply.started": "2021-04-21T20:38:58.957879Z"
    }
   },
   "outputs": [],
   "source": [
    "def simple_train_single(bucket, prefix, batch_size, downsample_to, n_epochs, base_lr, pretrained_classes): \n",
    "    \n",
    "    # --------- Format params --------- #\n",
    "    device = torch.device(\"cuda\")\n",
    "    net = models.resnet50(pretrained=True) # True means we start with the imagenet version\n",
    "    model = net.to(device)\n",
    "\n",
    "    # --------- Start wandb --------- #\n",
    "    wandb.init(config=wbargs, project = 'wandb_saturn_demo')\n",
    "    wandb.watch(model)\n",
    "\n",
    "    # --------- Set up eval --------- #\n",
    "    criterion = nn.CrossEntropyLoss().cuda()    \n",
    "    optimizer = optim.SGD(model.parameters(), lr=base_lr, momentum=0.9)\n",
    "\n",
    "    # --------- Retrieve data for training --------- #\n",
    "    transform = transforms.Compose([\n",
    "    transforms.Resize(256), \n",
    "    transforms.CenterCrop(250), \n",
    "    transforms.ToTensor()])\n",
    "    \n",
    "    # Because we want to load our images directly and lazily from S3,\n",
    "    # we use a custom Dataset class called S3ImageFolder.\n",
    "    whole_dataset = data.S3ImageFolder(\n",
    "        bucket, \n",
    "        prefix,\n",
    "        transform=transform, \n",
    "        anon = True\n",
    "    )\n",
    "\n",
    "    # Format target labels\n",
    "    new_class_to_idx = {x: int(replace_label(x, pretrained_classes)[1]) for x in whole_dataset.classes}\n",
    "    whole_dataset.class_to_idx = new_class_to_idx\n",
    "\n",
    "    # ------ Create dataloader ------- #\n",
    "    train_loader = torch.utils.data.DataLoader(\n",
    "        whole_dataset, \n",
    "        sampler=RandomSampler(\n",
    "            whole_dataset, \n",
    "            replacement = True, \n",
    "            num_samples = math.floor(len(whole_dataset)*downsample_to)), \n",
    "        batch_size=batch_size, \n",
    "        num_workers=40, \n",
    "        multiprocessing_context=mp.get_context('fork'))   \n",
    "\n",
    "    # Using the OneCycleLR learning rate schedule\n",
    "    scheduler = optim.lr_scheduler.OneCycleLR(optimizer, max_lr=base_lr, \n",
    "                                                steps_per_epoch=len(train_loader), \n",
    "                                                epochs=n_epochs)\n",
    "    \n",
    "    # ------ Prepare wandb Table for predictions ------- #\n",
    "    columns=[\"image\", \"label\", \"prediction\", \"score\"]\n",
    "    preds_table = wandb.Table(columns=columns)\n",
    "    \n",
    "    # --------- Start Training ------- #\n",
    "    mb = master_bar(range(n_epochs))\n",
    "    for epoch in mb:\n",
    "        count = 0\n",
    "        model.train()\n",
    "        \n",
    "        for inputs, labels in progress_bar(train_loader, parent=mb):\n",
    "            dt = datetime.datetime.now().isoformat()\n",
    "            inputs, labels = inputs.to(device), labels.to(device)\n",
    "\n",
    "            # Run model iteration\n",
    "            outputs = model(inputs)\n",
    "\n",
    "            # Format results\n",
    "            pred_idx, preds = torch.max(outputs, 1)\n",
    "            perct = [torch.nn.functional.softmax(el, dim=0)[i].item() for i, el in zip(preds, outputs)]\n",
    "            \n",
    "            loss = criterion(outputs, labels)\n",
    "            correct = (preds == labels).sum().item()\n",
    "            \n",
    "            # zero the parameter gradients\n",
    "            optimizer.zero_grad()\n",
    "            loss.backward()\n",
    "            scheduler.step()\n",
    "            \n",
    "            # ✍️ Log your metrics to wandb ✍️\n",
    "            logs = {\n",
    "                    'train/train_loss': loss.item(),\n",
    "                    'train/learning_rate':scheduler.get_last_lr()[0], \n",
    "                    'train/correct':correct, \n",
    "                    'train/epoch': epoch + count/len(train_loader), \n",
    "                    'train/count': count,     \n",
    "                }\n",
    "            \n",
    "            # ✍️  Occasionally some images to ensure the image data looks correct ✍️\n",
    "            if count % 25 == 0:\n",
    "                logs['examples/example_images'] = wandb.Image(inputs[:5], caption=f'Step: {count}')\n",
    "            \n",
    "            # ✍️ Log some predictions to wandb during final epoch for analysis✍️ \n",
    "            if epoch == max(range(n_epochs)) and count % 4 == 0:\n",
    "                for i in range(len(labels)):\n",
    "                    preds_table.add_data(wandb.Image(inputs[i]), labels[i], preds[i], perct[i]) \n",
    "            \n",
    "            # ✍️  Log metrics to wandb ✍️         \n",
    "            wandb.log(logs)\n",
    "            \n",
    "            count += 1\n",
    "    \n",
    "    # ✍️  Upload your predictions table for analysis ✍️  \n",
    "    predictions_artifact = wandb.Artifact(\"train_predictions_\" + str(wandb.run.id), type=\"train_predictions\")\n",
    "    predictions_artifact.add(preds_table, \"train_predictions\")\n",
    "    wandb.run.log_artifact(predictions_artifact)  \n",
    "    \n",
    "    # ✍️ Close your wandb run ✍️ \n",
    "    wandb.run.finish()"
   ]
  },
  {
   "cell_type": "markdown",
   "metadata": {},
   "source": [
    "## Run Model\n",
    "You can now monitor the model run on Weights and Biases in real time.\n"
   ]
  },
  {
   "cell_type": "code",
   "execution_count": null,
   "metadata": {
    "execution": {
     "iopub.execute_input": "2021-04-21T20:39:00.597495Z",
     "iopub.status.busy": "2021-04-21T20:39:00.597267Z",
     "iopub.status.idle": "2021-04-21T20:48:19.997930Z",
     "shell.execute_reply": "2021-04-21T20:48:19.997221Z",
     "shell.execute_reply.started": "2021-04-21T20:39:00.597469Z"
    }
   },
   "outputs": [],
   "source": [
    "simple_train_single(**model_params)"
   ]
  },
  {
   "cell_type": "markdown",
   "metadata": {},
   "source": [
    "At this point, you can view the Weights and Biases dashboard to see the performance of the model and system resources utilization in real time!"
   ]
  }
 ],
 "metadata": {
  "kernelspec": {
   "display_name": "saturn (Python 3)",
   "language": "python",
   "name": "python3"
  },
  "language_info": {
   "codemirror_mode": {
    "name": "ipython",
    "version": 3
   },
   "file_extension": ".py",
   "mimetype": "text/x-python",
   "name": "python",
   "nbconvert_exporter": "python",
   "pygments_lexer": "ipython3",
   "version": "3.7.10"
  }
 },
 "nbformat": 4,
 "nbformat_minor": 4
}